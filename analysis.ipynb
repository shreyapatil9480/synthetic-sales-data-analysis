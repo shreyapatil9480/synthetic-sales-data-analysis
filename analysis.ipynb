{
 "cells": [
  {
   "cell_type": "markdown",
   "id": "9af41f6b",
   "metadata": {},
   "source": [
    "# Business Analyst Portfolio Project\n",
    "This notebook performs exploratory data analysis (EDA) and builds predictive models using a synthetic sales dataset."
   ]
  },
  {
   "cell_type": "code",
   "execution_count": null,
   "id": "efb2ff85",
   "metadata": {},
   "outputs": [],
   "source": [
    "\n",
    "import pandas as pd\n",
    "import numpy as np\n",
    "import matplotlib.pyplot as plt\n",
    "import seaborn as sns\n",
    "from sklearn.model_selection import train_test_split\n",
    "from sklearn.linear_model import LinearRegression\n",
    "from sklearn.ensemble import RandomForestRegressor\n",
    "from sklearn.metrics import mean_squared_error, r2_score\n",
    "\n",
    "sns.set(style='whitegrid')\n"
   ]
  },
  {
   "cell_type": "code",
   "execution_count": null,
   "id": "d51f380c",
   "metadata": {},
   "outputs": [],
   "source": [
    "\n",
    "# Load the synthetic dataset\n",
    "file_path = 'synthetic_sales_data.csv'\n",
    "data = pd.read_csv(file_path, parse_dates=['OrderDate'])\n",
    "\n",
    "# Display first few rows\n",
    "data.head()\n"
   ]
  },
  {
   "cell_type": "code",
   "execution_count": null,
   "id": "d3c6b207",
   "metadata": {},
   "outputs": [],
   "source": [
    "\n",
    "# Display summary statistics\n",
    "summary = data.describe(include='all')\n",
    "summary\n"
   ]
  },
  {
   "cell_type": "code",
   "execution_count": null,
   "id": "3cf3b6c5",
   "metadata": {},
   "outputs": [],
   "source": [
    "\n",
    "# Plot average profit by region\n",
    "plt.figure(figsize=(8, 5))\n",
    "avg_profit_region = data.groupby('Region')['Profit'].mean().sort_values(ascending=False)\n",
    "sns.barplot(x=avg_profit_region.index, y=avg_profit_region.values)\n",
    "plt.title('Average Profit by Region')\n",
    "plt.xlabel('Region')\n",
    "plt.ylabel('Average Profit')\n",
    "plt.tight_layout()\n",
    "plt.show()\n"
   ]
  },
  {
   "cell_type": "code",
   "execution_count": null,
   "id": "fcccb46a",
   "metadata": {},
   "outputs": [],
   "source": [
    "\n",
    "# Plot distribution of units sold\n",
    "plt.figure(figsize=(8,5))\n",
    "sns.histplot(data['UnitsSold'], bins=20, kde=True)\n",
    "plt.title('Distribution of Units Sold')\n",
    "plt.xlabel('Units Sold')\n",
    "plt.ylabel('Frequency')\n",
    "plt.tight_layout()\n",
    "plt.show()\n"
   ]
  },
  {
   "cell_type": "code",
   "execution_count": null,
   "id": "b7decd20",
   "metadata": {},
   "outputs": [],
   "source": [
    "\n",
    "# Scatter plot of Marketing Spend vs Profit\n",
    "plt.figure(figsize=(8,5))\n",
    "sns.scatterplot(x='MarketingSpend', y='Profit', data=data)\n",
    "plt.title('Marketing Spend vs Profit')\n",
    "plt.xlabel('Marketing Spend')\n",
    "plt.ylabel('Profit')\n",
    "plt.tight_layout()\n",
    "plt.show()\n"
   ]
  },
  {
   "cell_type": "code",
   "execution_count": null,
   "id": "1c619958",
   "metadata": {},
   "outputs": [],
   "source": [
    "\n",
    "# Prepare data for regression modeling\n",
    "# We'll predict profit using numerical and categorical variables\n",
    "from sklearn.preprocessing import OneHotEncoder\n",
    "from sklearn.compose import ColumnTransformer\n",
    "from sklearn.pipeline import Pipeline\n",
    "\n",
    "X = data[['Region', 'CustomerSegment', 'ProductCategory', 'UnitCost', 'UnitPrice', 'UnitsSold', 'MarketingSpend']]\n",
    "y = data['Profit']\n",
    "\n",
    "# Define categorical and numerical columns\n",
    "categorical_cols = ['Region', 'CustomerSegment', 'ProductCategory']\n",
    "numerical_cols = ['UnitCost', 'UnitPrice', 'UnitsSold', 'MarketingSpend']\n",
    "\n",
    "# Preprocess data: one-hot encode categorical variables and pass through without change numeric variables\n",
    "preprocessor = ColumnTransformer(\n",
    "    transformers=[\n",
    "        ('cat', OneHotEncoder(drop='first', handle_unknown='ignore'), categorical_cols),\n",
    "        ('num', 'passthrough', numerical_cols)\n",
    "    ]\n",
    ")\n",
    "\n",
    "# Split the data\n",
    "X_train, X_test, y_train, y_test = train_test_split(X, y, test_size=0.2, random_state=42)\n"
   ]
  },
  {
   "cell_type": "code",
   "execution_count": null,
   "id": "6298d92a",
   "metadata": {},
   "outputs": [],
   "source": [
    "\n",
    "# Define linear regression model pipeline\n",
    "linreg_model = Pipeline(steps=[\n",
    "    ('preprocessor', preprocessor),\n",
    "    ('model', LinearRegression())\n",
    "])\n",
    "\n",
    "# Train the model\n",
    "linreg_model.fit(X_train, y_train)\n",
    "\n",
    "# Predict on the test set\n",
    "y_pred_lr = linreg_model.predict(X_test)\n",
    "\n",
    "# Evaluate the model\n",
    "mse_lr = mean_squared_error(y_test, y_pred_lr)\n",
    "r2_lr = r2_score(y_test, y_pred_lr)\n",
    "\n",
    "print(f\"Linear Regression MSE: {mse_lr:.2f}\")\n",
    "print(f\"Linear Regression R^2: {r2_lr:.2f}\")\n"
   ]
  },
  {
   "cell_type": "code",
   "execution_count": null,
   "id": "784a9480",
   "metadata": {},
   "outputs": [],
   "source": [
    "\n",
    "# Define random forest model pipeline\n",
    "rf_model = Pipeline(steps=[\n",
    "    ('preprocessor', preprocessor),\n",
    "    ('model', RandomForestRegressor(n_estimators=200, random_state=42))\n",
    "])\n",
    "\n",
    "# Train the model\n",
    "rf_model.fit(X_train, y_train)\n",
    "\n",
    "# Predict on the test set\n",
    "y_pred_rf = rf_model.predict(X_test)\n",
    "\n",
    "# Evaluate the model\n",
    "mse_rf = mean_squared_error(y_test, y_pred_rf)\n",
    "r2_rf = r2_score(y_test, y_pred_rf)\n",
    "\n",
    "print(f\"Random Forest MSE: {mse_rf:.2f}\")\n",
    "print(f\"Random Forest R^2: {r2_rf:.2f}\")\n"
   ]
  },
  {
   "cell_type": "code",
   "execution_count": null,
   "id": "0a731892",
   "metadata": {},
   "outputs": [],
   "source": [
    "\n",
    "# Conclusion\n",
    "print(\"\n",
    "The synthetic dataset provides a snapshot of sales-related metrics. Through exploratory analysis, we observe patterns such as average profits across regions, distribution of units sold, and the relationship between marketing spend and profit. The predictive models demonstrate that both linear regression and random forest can estimate profits based on the available features.\n",
    "\")\n"
   ]
  }
 ],
 "metadata": {},
 "nbformat": 4,
 "nbformat_minor": 5
}
